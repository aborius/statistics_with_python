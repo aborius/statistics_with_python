{
 "cells": [
  {
   "cell_type": "markdown",
   "id": "e2a8afba",
   "metadata": {},
   "source": [
    "# Distribuzione binomiale\n",
    "\n",
    "***By Alex Borio***"
   ]
  },
  {
   "cell_type": "markdown",
   "id": "478db64b",
   "metadata": {},
   "source": [
    "## Distribuzioni discrete"
   ]
  },
  {
   "cell_type": "markdown",
   "id": "7b8c3d56",
   "metadata": {},
   "source": [
    "Le distribuzioni discrete sono fondamentali in statistica per modellare il comportamento di variabili aleatorie che possono assumere solo un numero finito o numerabile di valori distinti. Queste distribuzioni forniscono la probabilità associata a ciascun possibile risultato di una variabile casuale discreta.\n",
    "\n",
    "\n",
    "Ecco un elenco delle distribuzioni discrete più comuni utilizzate in statistica:\n",
    "\n",
    "<li>Distribuzione Bernoulli: Modella una variabile casuale che può assumere solo due valori distinti, generalmente indicati come successo o fallimento.</li>\n",
    "<li>Distribuzione Binomiale: Descrive il numero di successi in una serie di tentativi indipendenti, ciascuno con una probabilità di successo costante.</li>\n",
    "<li>Distribuzione di Poisson: Utilizzata per modellare il numero di eventi rari che si verificano in un dato intervallo di tempo o spazio.</li>\n",
    "<li>Distribuzione Geometrica: Rappresenta il numero di tentativi necessari prima che si verifichi il primo successo in una sequenza di  tentativi indipendenti con una probabilità di successo costante.</li>"
   ]
  },
  {
   "cell_type": "markdown",
   "id": "019333c0",
   "metadata": {},
   "source": [
    "## Distribuzione binomiale"
   ]
  },
  {
   "cell_type": "markdown",
   "id": "40246fa0",
   "metadata": {},
   "source": [
    "La Distribuzione Binomiale è una distribuzione di probabilità discreta utilizzata per calcolare la probabilità di ottenere un determinato <u>numero di successi su una certa quantità di ripetizioni dello stesso esperimento.</u>\n",
    "\n",
    "Le 4 condizioni fondamentali per applicare questo tipo di distribuzione sono le seguenti:\n",
    "\n",
    "<ul>\n",
    "\n",
    "<li>I risultati possibili sono di successo o fallimento</li>\n",
    "<li>I risultati delle prove precedenti non influenzano il risultato di un'altra prova</li>\n",
    "<li>Il numero di prove è predeterminato</li>\n",
    "<li>La probabilità di successo di ogni prova deve sempre essere p</li>\n",
    "    \n",
    " </ul>\n",
    "\n",
    "<u>I parametri utilizzati sono:</u>\n",
    "\n",
    "**n**= il numero di prove \n",
    "\n",
    "**p**= probabilità di successo di ogni prova\n",
    "\n"
   ]
  },
  {
   "cell_type": "markdown",
   "id": "816c0e94",
   "metadata": {},
   "source": [
    "<img src=\"https://chrispiech.github.io/probabilityForComputerScientists/img/chapters/binEquation2.png\" alt=\"350\" width=\"550\" align=\"left\"/>"
   ]
  },
  {
   "cell_type": "markdown",
   "id": "0f8ce631",
   "metadata": {},
   "source": [
    "## Esempi"
   ]
  },
  {
   "cell_type": "markdown",
   "id": "15a44764",
   "metadata": {},
   "source": [
    "### Esempio 1: Apertura di un ristorante\n",
    "\n",
    "Un nuovo Ristorante in città ha una probabilità di sopravvivere del **20%** dopo il primo anno.\n",
    "\n",
    "Se quest'anno hanno aperto **14** ristoranti, <u>qual è la probabilità che esattamente 4 ristoranti sopravvivano dopo il primo anno?</u>\n",
    "\n",
    "**n**=14\n",
    "\n",
    "**p**=0.20"
   ]
  },
  {
   "cell_type": "code",
   "execution_count": 1,
   "id": "89bebf2a",
   "metadata": {},
   "outputs": [],
   "source": [
    "import numpy as np\n",
    "import matplotlib.pyplot as plt\n",
    "%matplotlib inline"
   ]
  },
  {
   "cell_type": "code",
   "execution_count": 2,
   "id": "f521b97f",
   "metadata": {},
   "outputs": [],
   "source": [
    "import scipy.stats as stats"
   ]
  },
  {
   "cell_type": "code",
   "execution_count": 3,
   "id": "c5a9ab18",
   "metadata": {},
   "outputs": [],
   "source": [
    "# The scipy.stats.binom contains all the methods required to generate and work \n",
    "# with a binomial distribution. The most frequently methods are: pmf(), cdf(), ppf()\n",
    "\n",
    "# Istanziamo la nostra variabile casuale binomiale con parametri n=14 e p=0.2\n",
    "\n",
    "X_rv = stats.binom(\n",
    "                n = 14,\n",
    "                p = 0.2,\n",
    ")"
   ]
  },
  {
   "cell_type": "code",
   "execution_count": 4,
   "id": "cc4dcd9a",
   "metadata": {},
   "outputs": [
    {
     "data": {
      "text/plain": [
       "0.17197049053184013"
      ]
     },
     "execution_count": 4,
     "metadata": {},
     "output_type": "execute_result"
    }
   ],
   "source": [
    "# Once created we can use the pmf method of this object to calculate the exact probability: (Probability Mass Function)\n",
    "\n",
    "probability = X_rv.pmf(4)\n",
    "probability"
   ]
  },
  {
   "cell_type": "code",
   "execution_count": 5,
   "id": "2b53fb51",
   "metadata": {},
   "outputs": [
    {
     "data": {
      "text/plain": [
       "0.17197049053184013"
      ]
     },
     "execution_count": 5,
     "metadata": {},
     "output_type": "execute_result"
    }
   ],
   "source": [
    "# Stessa cosa:\n",
    "\n",
    "probability = stats.binom.pmf(k = 4,\n",
    "                              n = 14,\n",
    "                              p = 0.2)\n",
    "\n",
    "probability"
   ]
  },
  {
   "cell_type": "code",
   "execution_count": 6,
   "id": "5227037e",
   "metadata": {},
   "outputs": [],
   "source": [
    "# Let's visualize the PMF of the binomial random variable X:\n",
    "\n",
    "n_restaurants = np.arange(0,14+1) \n",
    "\n",
    "n_restaurants_prob = X_rv.pmf(n_restaurants)"
   ]
  },
  {
   "cell_type": "code",
   "execution_count": 7,
   "id": "781d762d",
   "metadata": {},
   "outputs": [
    {
     "data": {
      "image/png": "[encoded data removed]",
      "text/plain": [
       "<Figure size 1400x600 with 1 Axes>"
      ]
     },
     "metadata": {},
     "output_type": "display_data"
    }
   ],
   "source": [
    "plt.figure(figsize=(14,6))\n",
    "\n",
    "plt.axhline(y=0.171, color='orange', linestyle='-', linewidth=4)\n",
    "\n",
    "plt.bar(n_restaurants, n_restaurants_prob)\n",
    "\n",
    "plt.title('Probability Mass Function (PMF)')\n",
    "plt.xlabel('N_Restaurants')\n",
    "plt.ylabel('Probability')\n",
    "plt.grid()\n",
    "plt.show()"
   ]
  },
  {
   "cell_type": "code",
   "execution_count": 8,
   "id": "bb0c17db",
   "metadata": {},
   "outputs": [
    {
     "data": {
      "text/plain": [
       "1.0000000000000007"
      ]
     },
     "execution_count": 8,
     "metadata": {},
     "output_type": "execute_result"
    }
   ],
   "source": [
    "# Somma delle proba deve restituire 1:\n",
    "\n",
    "sum(n_restaurants_prob)"
   ]
  },
  {
   "cell_type": "markdown",
   "id": "392e6bbc",
   "metadata": {},
   "source": [
    "### Esempio 2: Gruppo sanguigno"
   ]
  },
  {
   "cell_type": "markdown",
   "id": "1a80e2ea",
   "metadata": {},
   "source": [
    "Una coppia ha un **25%** di probabilità di avere un figlio con gruppo sanguigno 0.\n",
    "\n",
    "<u>Qual'è la probabilità che 3 dei loro <strong>5 figli</strong> abbiano il gruppo 0?</u>\n",
    "\n",
    "**n**=5\n",
    "\n",
    "**p**=0.25"
   ]
  },
  {
   "cell_type": "code",
   "execution_count": 9,
   "id": "ea695fd5",
   "metadata": {},
   "outputs": [],
   "source": [
    "X_rv= stats.binom(\n",
    "    n=5, \n",
    "    p=0.25 \n",
    "      )"
   ]
  },
  {
   "cell_type": "code",
   "execution_count": 10,
   "id": "4b0ed324",
   "metadata": {},
   "outputs": [
    {
     "data": {
      "text/plain": [
       "0.08789062499999994"
      ]
     },
     "execution_count": 10,
     "metadata": {},
     "output_type": "execute_result"
    }
   ],
   "source": [
    "proba_3= X_rv.pmf(3)\n",
    "proba_3"
   ]
  },
  {
   "cell_type": "code",
   "execution_count": 11,
   "id": "0c2dd755",
   "metadata": {},
   "outputs": [],
   "source": [
    "n_children= np.arange(0,5+1) \n",
    "\n",
    "n_children_proba= X_rv.pmf(n_children)"
   ]
  },
  {
   "cell_type": "code",
   "execution_count": 12,
   "id": "e8029d9c",
   "metadata": {},
   "outputs": [
    {
     "data": {
      "image/png": "[encoded data removed]",
      "text/plain": [
       "<Figure size 1400x600 with 1 Axes>"
      ]
     },
     "metadata": {},
     "output_type": "display_data"
    }
   ],
   "source": [
    "plt.figure(figsize=(14,6))\n",
    "\n",
    "plt.axhline(y=0.087, color='orange', linestyle='-', linewidth=4)\n",
    "\n",
    "plt.bar(n_children, n_children_proba)\n",
    "\n",
    "plt.title('Probability Mass Function (PMF)')\n",
    "plt.xlabel('N_Children')\n",
    "plt.ylabel('Probability')\n",
    "plt.grid()\n",
    "plt.show()"
   ]
  },
  {
   "cell_type": "markdown",
   "id": "0977b23d",
   "metadata": {},
   "source": [
    "Qual è la probabilità che ALMENO 3 dei loro  5 figli abbiano il gruppo 0?\n",
    "\n",
    "##### P(X >= 3)\n"
   ]
  },
  {
   "cell_type": "code",
   "execution_count": 13,
   "id": "9302d7c5",
   "metadata": {},
   "outputs": [
    {
     "data": {
      "text/plain": [
       "0.10351562499999994"
      ]
     },
     "execution_count": 13,
     "metadata": {},
     "output_type": "execute_result"
    }
   ],
   "source": [
    "#Usando Pmf() #Probability Mass Function\n",
    "\n",
    "at_least_3= X_rv.pmf(3) + X_rv.pmf(4) + X_rv.pmf(5)\n",
    "at_least_3"
   ]
  },
  {
   "cell_type": "code",
   "execution_count": 14,
   "id": "92a5ef60",
   "metadata": {},
   "outputs": [
    {
     "data": {
      "text/plain": [
       "0.103515625"
      ]
     },
     "execution_count": 14,
     "metadata": {},
     "output_type": "execute_result"
    }
   ],
   "source": [
    "#Usando Cdf() -> Cumulative Distribution Function\n",
    "\n",
    "at_least_3_cdf= 1 - X_rv.cdf(2) #praticamente 100% (1) - probabilità accumulata (CDF) da 2 incluso a 0.\n",
    "at_least_3_cdf"
   ]
  },
  {
   "cell_type": "markdown",
   "id": "2eece214",
   "metadata": {},
   "source": [
    "### Esempio 3: Farmaco"
   ]
  },
  {
   "cell_type": "markdown",
   "id": "a5ce14ca",
   "metadata": {},
   "source": [
    "I medici utilizzano la distribuzione binomiale per modellare la probabilità che un certo numero di pazienti manifesti effetti collaterali in seguito all'assunzione di nuovi farmaci.\n",
    "\n",
    "Ad esempio, supponiamo che sia noto che il **5%** degli adulti che assumono un determinato farmaco sperimenta effetti collaterali negativi. Possiamo usare un calcolatore di distribuzione binomiale per trovare la probabilità che più di un certo numero di pazienti in un campione casuale di **100** sperimentino effetti collaterali negativi.\n",
    "\n",
    "P(X > 5 pazienti manifestano effetti collaterali)?\n",
    "\n",
    "P(X > 10 pazienti manifestano effetti collaterali)?\n",
    "\n",
    "P(X > 15 pazienti sperimentano effetti collaterali)?"
   ]
  },
  {
   "cell_type": "code",
   "execution_count": 15,
   "id": "116fbfa1",
   "metadata": {},
   "outputs": [],
   "source": [
    "X_rv= stats.binom(\n",
    "    n=100, \n",
    "    p=0.05 \n",
    "      )"
   ]
  },
  {
   "cell_type": "code",
   "execution_count": 16,
   "id": "ec9b324d",
   "metadata": {},
   "outputs": [
    {
     "data": {
      "text/plain": [
       "0.3840008720438586"
      ]
     },
     "execution_count": 16,
     "metadata": {},
     "output_type": "execute_result"
    }
   ],
   "source": [
    "proba_g_5= 1 - X_rv.cdf(5)\n",
    "proba_g_5"
   ]
  },
  {
   "cell_type": "code",
   "execution_count": 17,
   "id": "2d279df9",
   "metadata": {},
   "outputs": [
    {
     "data": {
      "text/plain": [
       "0.011472410067484673"
      ]
     },
     "execution_count": 17,
     "metadata": {},
     "output_type": "execute_result"
    }
   ],
   "source": [
    "proba_g_10= 1 - X_rv.cdf(10)\n",
    "proba_g_10"
   ]
  },
  {
   "cell_type": "code",
   "execution_count": 18,
   "id": "29bd4913",
   "metadata": {},
   "outputs": [
    {
     "data": {
      "text/plain": [
       "3.705407617760059e-05"
      ]
     },
     "execution_count": 18,
     "metadata": {},
     "output_type": "execute_result"
    }
   ],
   "source": [
    "proba_g_15= 1 - X_rv.cdf(15)\n",
    "proba_g_15 #0.0004"
   ]
  }
 ],
 "metadata": {
  "kernelspec": {
   "display_name": "Python 3 (ipykernel)",
   "language": "python",
   "name": "python3"
  },
  "language_info": {
   "codemirror_mode": {
    "name": "ipython",
    "version": 3
   },
   "file_extension": ".py",
   "mimetype": "text/x-python",
   "name": "python",
   "nbconvert_exporter": "python",
   "pygments_lexer": "ipython3",
   "version": "3.12.0"
  }
 },
 "nbformat": 4,
 "nbformat_minor": 5
}
