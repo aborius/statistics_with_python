{
 "cells": [
  {
   "cell_type": "markdown",
   "metadata": {},
   "source": [
    "# Distribuzione di Poisson\n",
    "\n",
    "***By Alex Borio***"
   ]
  },
  {
   "cell_type": "markdown",
   "metadata": {},
   "source": [
    "<img src=\"https://miro.medium.com/max/1400/1*OTQHk3rsuzwdidO9zgSOfA.png\" alt=\"350\" width=\"400\" align=\"left\"/>"
   ]
  },
  {
   "cell_type": "markdown",
   "metadata": {},
   "source": [
    "## Introduzione alla Distribuzione di Probabilità"
   ]
  },
  {
   "cell_type": "markdown",
   "metadata": {},
   "source": [
    "Una distribuzione di probabilità riassume le probabilità dei valori di una variabile casuale. Le proprietà/caratteristiche generali che definiscono una distribuzione includono i quattro momenti matematici:\n",
    "\n",
    "**<li>Valore atteso E(X)**: Questo è l'esito con la probabilità o la verosimiglianza più alta, o un valore medio per la variabile X.</li>\n",
    "\n",
    "**<li>Varianza Var(X)**: La varianza denota la dispersione dei valori rispetto al valore atteso. La deviazione standard è il valore normalizzato della varianza ottenuto prendendo la radice quadrata della varianza. La covarianza riassume la relazione lineare su come le due variabili cambiano rispetto l'una all'altra.</li>\n",
    "\n",
    "**<li>Asimmetria**: L'asimmetria è la misura della asimmetria di una variabile casuale X rispetto alla media E(X) di una distribuzione di probabilità. Può essere positiva (coda sul lato destro), negativa (coda sul lato sinistro), zero (coda bilanciata su entrambi i lati) o indefinita. Un'asimmetria zero non significa sempre una distribuzione simmetrica, poiché una coda può essere lunga e sottile e l'altra corta e spessa.</li>\n",
    "\n",
    "**<li>Curtosi**: La curtosi è la misura della \"piccolezza\" di una distribuzione. Può essere uno strumento di differenziazione tra distribuzioni che hanno la stessa media e varianza. Una curtosi più alta indica un picco e code più spesse/estese.</li>\n",
    "\n",
    "Ogni variabile casuale ha la propria distribuzione di probabilità che può avere una forma simile ad altre variabili; tuttavia, la struttura differirà a seconda che la variabile sia discreta o continua, poiché le distribuzioni di probabilità delle variabili continue hanno un numero infinito di valori e le funzioni di probabilità delle variabili discrete assegnano una probabilità a ciascun punto dati concreto."
   ]
  },
  {
   "cell_type": "markdown",
   "metadata": {},
   "source": [
    "## Distribuzione di Poisson"
   ]
  },
  {
   "cell_type": "markdown",
   "metadata": {},
   "source": [
    "La distribuzione di Poisson è una delle distribuzioni di probabilità discrete insieme a:\n",
    "**<li>Distribuzione binomiale**: Viene utilizzata quando ci sono due possibili esiti (successo/fallimento) in un processo che sono indipendenti l'uno dall'altro in un numero n di prove. L'esempio più semplice è il lancio di una moneta, mentre un uso più pratico della distribuzione binomiale è il test di un farmaco, per verificare se il farmaco cura la malattia o meno in un numero n di prove.</li>\n",
    "**<li>Distribuzione ipergeometrica**:Calcola il numero di k successi in un numero n di prove dove la probabilità di successo cambia con ciascuna prova successiva. Questo tipo di distribuzione si applica nel Poker, quando pescare una carta rossa dal mazzo cambia la probabilità di pescare un'altra carta rossa successivamente.</li>\n",
    "**<li>Distribuzione di Poisson**:Fornisce la probabilità che un evento accada un certo numero di volte (k) in un dato intervallo di tempo o spazio. Ad esempio, determinare la probabilità che una malattia si verifichi m volte nel mese successivo dato che si verifica n volte in 1 anno.</li>\n",
    "**<li>Distribuzione geometrica**:Determina il numero di prove indipendenti necessarie per ottenere il primo esito positivo. La distribuzione geometrica può essere utilizzata per condurre un'analisi costi-benefici di una certa decisione aziendale.</li>\n",
    "\n",
    "La distribuzione di Poisson può essere utilizzata solo sotto tre condizioni:\n",
    "<li>I dati sono conteggi di eventi, cioè sono interi non negativi.</li>\n",
    "<li>Gli eventi sono casuali e si verificano indipendentemente l'uno dall'altro.</li>\n",
    "<li>Il numero medio di eventi che si verificano in un intervallo di tempo specifico è costante e noto.</li>\n",
    "\n",
    "Ad esempio, la distribuzione di Poisson è utilizzata dalle compagnie di rete mobile per calcolare i loro indicatori di prestazione come l'efficienza e il rapporto di soddisfazione dei clienti. Il numero di guasti di rete in una settimana in una località può essere misurato dato lo storico dei guasti di rete in una determinata durata di tempo. Questa prevedibilità prepara l'azienda con soluzioni proattive e i clienti vengono avvisati in anticipo.\n",
    "\n",
    "<u>I parametri per utilizzare la formula di Poisson sono i seguenti:</u>\n",
    "    \n",
    "**x** = numero di eventi in un determinato intervallo\n",
    "    \n",
    "**λ** = il numero medio di eventi per intervallo (media)\n",
    "    \n",
    "<em><strong>e</strong></em> = numero di Eulero (costante uguale a 2,71828...)"
   ]
  },
  {
   "cell_type": "markdown",
   "metadata": {},
   "source": [
    "<img src=\"https://andymath.com/wp-content/uploads/2019/03/PoissonProbability.jpg\" alt=\"350\" width=\"500\" align=\"left\"/>\n",
    "\n",
    "\n"
   ]
  },
  {
   "cell_type": "markdown",
   "metadata": {},
   "source": [
    "## Esempi"
   ]
  },
  {
   "cell_type": "markdown",
   "metadata": {},
   "source": [
    "### Esempio 1: Distribuzione di Poisson\n",
    "\n",
    "Il seguente esempio genera dati casuali sul numero di tempeste di sabbia nella città di Multan. La lambda è fissata a 3,4 tempeste per anno e i dati sono monitorati per 10.000 anni."
   ]
  },
  {
   "cell_type": "code",
   "execution_count": 12,
   "metadata": {},
   "outputs": [],
   "source": [
    "# Import libraries\n",
    "\n",
    "from scipy.stats import poisson ## to calculate the passion distribution\n",
    "import numpy as np ## to prepare the data\n",
    "import pandas as pd ## to prepare the data\n",
    "import matplotlib.pyplot as plt ## to create plots"
   ]
  },
  {
   "cell_type": "code",
   "execution_count": 13,
   "metadata": {},
   "outputs": [
    {
     "data": {
      "text/plain": [
       "0     1\n",
       "1     3\n",
       "2     3\n",
       "3     3\n",
       "4     5\n",
       "5     1\n",
       "6     2\n",
       "7     2\n",
       "8     3\n",
       "9     5\n",
       "10    5\n",
       "11    6\n",
       "12    1\n",
       "13    2\n",
       "14    1\n",
       "15    6\n",
       "16    2\n",
       "17    4\n",
       "18    4\n",
       "19    3\n",
       "dtype: int64"
      ]
     },
     "execution_count": 13,
     "metadata": {},
     "output_type": "execute_result"
    }
   ],
   "source": [
    "# Random Example: Modeling the frequency of the number of duststorms in Multan, Pakistan \n",
    "\n",
    "# creating data for 10000 years using scipy.stat.poisson library\n",
    "# Rate lamda = 3.4 duststorm in Multan every year\n",
    "\n",
    "d_rvs = pd.Series(poisson.rvs(3.4, size=10000, random_state=2)) #random_state so we can reproduce it #turning into panda series\n",
    "d_rvs[:20] # first 20 entry, so the first 20 years, with the number of storms on the right"
   ]
  },
  {
   "cell_type": "code",
   "execution_count": 14,
   "metadata": {},
   "outputs": [
    {
     "data": {
      "text/plain": [
       "3.3879"
      ]
     },
     "execution_count": 14,
     "metadata": {},
     "output_type": "execute_result"
    }
   ],
   "source": [
    "d_rvs.mean() # mean of 10000 values is 3.3879, approximately what we set as the average number of duststorm per year."
   ]
  },
  {
   "cell_type": "code",
   "execution_count": 15,
   "metadata": {},
   "outputs": [
    {
     "data": {
      "text/plain": [
       "{0: 357,\n",
       " 1: 1122,\n",
       " 2: 1971,\n",
       " 3: 2144,\n",
       " 4: 1847,\n",
       " 5: 1253,\n",
       " 6: 731,\n",
       " 7: 368,\n",
       " 8: 126,\n",
       " 9: 54,\n",
       " 10: 24,\n",
       " 11: 2,\n",
       " 12: 1}"
      ]
     },
     "execution_count": 15,
     "metadata": {},
     "output_type": "execute_result"
    }
   ],
   "source": [
    "# Showing the frequency of years against the number of storms per year and sorting it by index. \n",
    "data = d_rvs.value_counts().sort_index().to_dict() #storing in a dictionary\n",
    "data\n",
    "# You can see that most years have 2-4 storms which is also represented in the calculated average and our lambda."
   ]
  },
  {
   "cell_type": "code",
   "execution_count": 16,
   "metadata": {},
   "outputs": [
    {
     "data": {
      "image/png": "[encoded data removed]",
      "text/plain": [
       "<Figure size 1600x600 with 1 Axes>"
      ]
     },
     "metadata": {},
     "output_type": "display_data"
    }
   ],
   "source": [
    "fig, ax = plt.subplots(figsize=(16, 6))\n",
    "ax.bar(range(len(data)), list(data.values()), align='center')\n",
    "plt.xticks(range(len(data)), list(data.keys()))\n",
    "plt.show()"
   ]
  },
  {
   "cell_type": "markdown",
   "metadata": {},
   "source": [
    "La funzione di massa di probabilità (pmf) risultante conferma che il valore intero più vicino a lambda, cioè 3, ha il maggior numero di anni su 10.000, il che significa che la maggior parte degli anni avrà 3 tempeste di sabbia. Si può anche vedere che i dati sono leggermente asimmetrici a destra poiché c'è una maggiore varianza a destra rispetto a sinistra. Osservando la distribuzione, sembra abbastanza normalmente distribuita. Tuttavia, il basso lambda non permette di utilizzare la distribuzione di Poisson come un'approssimazione per una distribuzione normale. Probabilmente, il grande set di dati ci consente di vederla come una distribuzione normale, poiché la maggior parte delle distribuzioni converge a una distribuzione normale con l'aumento della dimensione del campione."
   ]
  },
  {
   "cell_type": "markdown",
   "metadata": {},
   "source": [
    "### Esempio 2: Call center\n",
    "\n",
    "Il numero di chiamate in arrivo ad un call center segue una distribuzione di Poisson a un tasso di **5** chiamate/ora. \n",
    "\n",
    "Qual'è la probabilità che arrivino esattamente **6** chiamate tra le 22 e le 23? (praticamente la probabilità di avere 6 chiamate in un ora piuttosto che 5)"
   ]
  },
  {
   "cell_type": "code",
   "execution_count": 1,
   "metadata": {},
   "outputs": [],
   "source": [
    "import numpy as np\n",
    "import matplotlib.pyplot as plt\n",
    "%matplotlib inline"
   ]
  },
  {
   "cell_type": "code",
   "execution_count": 2,
   "metadata": {},
   "outputs": [],
   "source": [
    "# Let'use Scipy\n",
    "\n",
    "import scipy.stats as stats"
   ]
  },
  {
   "cell_type": "code",
   "execution_count": 3,
   "metadata": {},
   "outputs": [
    {
     "data": {
      "text/plain": [
       "0.1462228081398754"
      ]
     },
     "execution_count": 3,
     "metadata": {},
     "output_type": "execute_result"
    }
   ],
   "source": [
    "proba_6 = stats.poisson.pmf(\n",
    "         k=6,  # x -> 6 chiamate/ora\n",
    "         mu=5) # mean(λ) 5 chiamate/ora\n",
    "\n",
    "proba_6 # Abbiamo il 14.6% di probabilità di avere esattamente 6 chiamate/ora."
   ]
  },
  {
   "cell_type": "markdown",
   "metadata": {},
   "source": [
    "### Esempio 3: Ristorante\n",
    "\n",
    "Un Ristorante riceve in media **100 clienti** al giorno. \n",
    "\n",
    "<u>Determina le seguenti probabilità:</u>\n",
    "\n",
    "**P(X > 110 clienti in un determinato giorno)**\n",
    "\n",
    "**P(X > 120 clienti in un determinato giorno)**\n",
    "\n",
    "**P(X > 130 clienti in un determinato giorno)**"
   ]
  },
  {
   "cell_type": "code",
   "execution_count": 4,
   "metadata": {},
   "outputs": [
    {
     "data": {
      "text/plain": [
       "0.14713734844226967"
      ]
     },
     "execution_count": 4,
     "metadata": {},
     "output_type": "execute_result"
    }
   ],
   "source": [
    "proba_g_110 = 1 - stats.poisson.cdf(k=110, mu=100) \n",
    "\n",
    "proba_g_110 "
   ]
  },
  {
   "cell_type": "code",
   "execution_count": 5,
   "metadata": {},
   "outputs": [
    {
     "data": {
      "text/plain": [
       "0.02266932907835273"
      ]
     },
     "execution_count": 5,
     "metadata": {},
     "output_type": "execute_result"
    }
   ],
   "source": [
    "proba_g_120 = 1 - stats.poisson.cdf(k=120, mu=100) \n",
    "\n",
    "proba_g_120 "
   ]
  },
  {
   "cell_type": "code",
   "execution_count": 6,
   "metadata": {},
   "outputs": [
    {
     "data": {
      "text/plain": [
       "0.0017068403705013946"
      ]
     },
     "execution_count": 6,
     "metadata": {},
     "output_type": "execute_result"
    }
   ],
   "source": [
    "proba_g_130 = 1 - stats.poisson.cdf(k=130, mu=100) \n",
    "\n",
    "proba_g_130 "
   ]
  },
  {
   "cell_type": "markdown",
   "metadata": {},
   "source": [
    "### Esempio 4: Azienda di produzione\n",
    "\n",
    "Il responsabile della produzione di un'azienda ha rilevato che, \n",
    "negli ultimi **100** giorni, si sono riscontrate **10** anomalie. \n",
    "\n",
    "<u>Qual è la probabilità di avere almeno **2** guasti nei 3 giorni successivi?</u>\n",
    "\n",
    "<ul>\n",
    "\n",
    "<li><strong>Abbiamo quindi una media di 0.1 guasti al giorno (10/100), che in 3 giorni è pari a una media di 0.3 guasti (0.1*3)</strong></li>\n",
    " \n",
    "<li><strong><em> Quindi quello che stiamo cercando è P(X >= 2) in 3 giorni</em></strong></li>\n",
    "    \n",
    "</ul>\n",
    "\n"
   ]
  },
  {
   "cell_type": "code",
   "execution_count": 7,
   "metadata": {},
   "outputs": [
    {
     "data": {
      "text/plain": [
       "0.03693631311376677"
      ]
     },
     "execution_count": 7,
     "metadata": {},
     "output_type": "execute_result"
    }
   ],
   "source": [
    "proba = 1 - stats.poisson.cdf(k=1, mu=0.3) #1(100%) - pmf(1)- pmf(0) --> cioè 1(100%) - cdf(1) \n",
    "proba"
   ]
  },
  {
   "cell_type": "code",
   "execution_count": 8,
   "metadata": {},
   "outputs": [
    {
     "data": {
      "text/plain": [
       "0.03693631311376677"
      ]
     },
     "execution_count": 8,
     "metadata": {},
     "output_type": "execute_result"
    }
   ],
   "source": [
    "# Stessa cosa usando pmf():\n",
    "\n",
    "proba = 1 - stats.poisson.pmf(k=1, mu=0.3) - stats.poisson.pmf(k=0, mu=0.3)\n",
    "proba"
   ]
  },
  {
   "cell_type": "markdown",
   "metadata": {},
   "source": [
    "### Esempio 5: Number of Website Visitors per Hour\n",
    "\n",
    "Website hosting companies use the Poisson distribution to model the number of expected visitors per hour that websites will receive.\n",
    "\n",
    "For example, suppose a given website receives an average of **20** visitors per hour. \n",
    "\n",
    "<u>We can use the Poisson distribution calculator to find the probability that the website receives more than a certain number of visitors in a given hour:</u>\n",
    "\n",
    "**P(X > 25 visitors)** = 0.11218\n",
    "\n",
    "**P(X > 30 visitors)** = 0.01347\n",
    "\n",
    "**P(X > 35 visitors)** = 0.00080\n",
    "\n"
   ]
  },
  {
   "cell_type": "code",
   "execution_count": 9,
   "metadata": {},
   "outputs": [
    {
     "data": {
      "text/plain": [
       "0.1121849727179699"
      ]
     },
     "execution_count": 9,
     "metadata": {},
     "output_type": "execute_result"
    }
   ],
   "source": [
    "proba_g_25 = 1 - stats.poisson.cdf(k=25, mu=20) \n",
    "\n",
    "proba_g_25"
   ]
  },
  {
   "cell_type": "code",
   "execution_count": 10,
   "metadata": {},
   "outputs": [
    {
     "data": {
      "text/plain": [
       "0.01347468127992224"
      ]
     },
     "execution_count": 10,
     "metadata": {},
     "output_type": "execute_result"
    }
   ],
   "source": [
    "proba_g_30 = 1 - stats.poisson.cdf(k=30, mu=20) \n",
    "\n",
    "proba_g_30 "
   ]
  },
  {
   "cell_type": "code",
   "execution_count": 11,
   "metadata": {},
   "outputs": [
    {
     "data": {
      "text/plain": [
       "0.0008036599614044126"
      ]
     },
     "execution_count": 11,
     "metadata": {},
     "output_type": "execute_result"
    }
   ],
   "source": [
    "proba_g_35 = 1 - stats.poisson.cdf(k=35, mu=20) \n",
    "\n",
    "proba_g_35"
   ]
  }
 ],
 "metadata": {
  "kernelspec": {
   "display_name": "Python 3",
   "language": "python",
   "name": "python3"
  },
  "language_info": {
   "codemirror_mode": {
    "name": "ipython",
    "version": 3
   },
   "file_extension": ".py",
   "mimetype": "text/x-python",
   "name": "python",
   "nbconvert_exporter": "python",
   "pygments_lexer": "ipython3",
   "version": "3.12.0"
  }
 },
 "nbformat": 4,
 "nbformat_minor": 2
}
